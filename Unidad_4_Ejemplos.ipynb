{
 "cells": [
  {
   "cell_type": "markdown",
   "id": "0a276447",
   "metadata": {},
   "source": [
    "# Unidad 4: Aprendizaje sobre datos particulares y aplicaciones"
   ]
  },
  {
   "cell_type": "markdown",
   "id": "03283c7c",
   "metadata": {},
   "source": [
    "### 🔧 Requisitos previos\n",
    "Asegúrate de instalar las bibliotecas necesarias antes de ejecutar el notebook:\n",
    "\n",
    "```bash\n",
    "pip install matplotlib nltk\n",
    "```"
   ]
  },
  {
   "cell_type": "markdown",
   "id": "90eb3009",
   "metadata": {},
   "source": [
    "## Ejemplo 1: **Internet de las Cosas (IoT) y Sensores**"
   ]
  },
  {
   "cell_type": "markdown",
   "id": "df3ece94",
   "metadata": {},
   "source": [
    "**Definición:**\n",
    "- **IoT:** Interconexión de dispositivos inteligentes para recolectar y transmitir datos.\n",
    "- **Sensor de Temperatura:** Dispositivo que mide y envía datos de temperatura."
   ]
  },
  {
   "cell_type": "code",
   "execution_count": null,
   "id": "d816def0",
   "metadata": {},
   "outputs": [],
   "source": [
    "import random\n",
    "import time\n",
    "import matplotlib.pyplot as plt\n",
    "\n",
    "def leer_temperatura():\n",
    "    return round(random.uniform(20.0, 40.0), 2)\n",
    "\n",
    "temperaturas = []\n",
    "tiempos = []\n",
    "\n",
    "for i in range(10):\n",
    "    temperatura = leer_temperatura()\n",
    "    temperaturas.append(temperatura)\n",
    "    tiempos.append(i)\n",
    "    print(f\"Temperatura actual: {temperatura}°C\")\n",
    "    time.sleep(0.5)\n",
    "\n",
    "plt.plot(tiempos, temperaturas, marker='o', color='b', label='Temperatura (°C)')\n",
    "plt.axhline(y=35, color='r', linestyle='--', label='Límite de alerta (35°C)')\n",
    "plt.title(\"Lectura de Temperatura del Sensor\")\n",
    "plt.xlabel(\"Tiempo\")\n",
    "plt.ylabel(\"Temperatura (°C)\")\n",
    "plt.legend()\n",
    "plt.grid()\n",
    "plt.show()\n"
   ]
  },
  {
   "cell_type": "markdown",
   "id": "75c51e35",
   "metadata": {},
   "source": [
    "## Ejemplo 2: **Flujos de Datos**"
   ]
  },
  {
   "cell_type": "markdown",
   "id": "c06e13f8",
   "metadata": {},
   "source": [
    "**Definición:**\n",
    "- **Flujos de Datos:** Secuencia continua de datos procesados en tiempo real.\n",
    "- **Datos Financieros:** Información relacionada con precios de acciones u otros indicadores económicos."
   ]
  },
  {
   "cell_type": "code",
   "execution_count": null,
   "id": "b6bb57ac",
   "metadata": {},
   "outputs": [],
   "source": [
    "import random\n",
    "import time\n",
    "import matplotlib.pyplot as plt\n",
    "\n",
    "def generar_dato_financiero():\n",
    "    return round(random.uniform(100.0, 500.0), 2)\n",
    "\n",
    "precios_accion = []\n",
    "tiempos = []\n",
    "\n",
    "for i in range(15):\n",
    "    precio = generar_dato_financiero()\n",
    "    precios_accion.append(precio)\n",
    "    tiempos.append(i)\n",
    "    print(f\"Precio de la acción: ${precio}\")\n",
    "    time.sleep(0.3)\n",
    "\n",
    "plt.plot(tiempos, precios_accion, marker='o', color='g', label='Precio de Acción ($)')\n",
    "plt.title(\"Flujo de Datos Financieros\")\n",
    "plt.xlabel(\"Tiempo\")\n",
    "plt.ylabel(\"Precio de Acción ($)\")\n",
    "plt.legend()\n",
    "plt.grid()\n",
    "plt.show()\n"
   ]
  },
  {
   "cell_type": "markdown",
   "id": "3442df37",
   "metadata": {},
   "source": [
    "## Ejemplo 3: **Procesamiento del Lenguaje Natural (PLN)**"
   ]
  },
  {
   "cell_type": "markdown",
   "id": "10909171",
   "metadata": {},
   "source": [
    "**Definición:**\n",
    "- **PLN:** Campo de la IA para la interacción entre computadoras y lenguaje humano.\n",
    "- **Análisis de Sentimiento:** Técnica para determinar si un texto es positivo, negativo o neutral."
   ]
  },
  {
   "cell_type": "code",
   "execution_count": null,
   "id": "9a7a15cd",
   "metadata": {},
   "outputs": [],
   "source": [
    "import nltk\n",
    "from nltk.sentiment import SentimentIntensityAnalyzer\n",
    "import matplotlib.pyplot as plt\n",
    "\n",
    "nltk.download('vader_lexicon')\n",
    "\n",
    "textos = [\n",
    "    \"Me encanta aprender sobre inteligencia artificial\",\n",
    "    \"Este curso es muy difícil\",\n",
    "    \"El día es muy bonito\",\n",
    "    \"No me gusta este lugar\"\n",
    "]\n",
    "\n",
    "positivos = []\n",
    "negativos = []\n",
    "neutrales = []\n",
    "\n",
    "sia = SentimentIntensityAnalyzer()\n",
    "\n",
    "for texto in textos:\n",
    "    resultado = sia.polarity_scores(texto)\n",
    "    positivos.append(resultado['pos'])\n",
    "    negativos.append(resultado['neg'])\n",
    "    neutrales.append(resultado['neu'])\n",
    "\n",
    "labels = ['Texto 1', 'Texto 2', 'Texto 3', 'Texto 4']\n",
    "x = range(len(textos))\n",
    "\n",
    "plt.bar(x, positivos, width=0.3, label='Positivo', color='g')\n",
    "plt.bar(x, negativos, width=0.3, label='Negativo', color='r', bottom=positivos)\n",
    "plt.bar(x, neutrales, width=0.3, label='Neutral', color='b', bottom=[p+n for p, n in zip(positivos, negativos)])\n",
    "plt.xticks(x, labels)\n",
    "plt.xlabel(\"Textos\")\n",
    "plt.ylabel(\"Puntuación\")\n",
    "plt.title(\"Análisis de Sentimiento de Textos\")\n",
    "plt.legend()\n",
    "plt.show()\n"
   ]
  },
  {
   "cell_type": "markdown",
   "id": "d6e2e910",
   "metadata": {},
   "source": [
    "## Ejemplo 4: **Chatbots**"
   ]
  },
  {
   "cell_type": "markdown",
   "id": "3d96841d",
   "metadata": {},
   "source": [
    "**Definición:**\n",
    "- **Chatbot:** Programa que simula una conversación con el usuario usando respuestas predefinidas.\n",
    "- **Interacción:** Comunicación entre usuario y chatbot."
   ]
  },
  {
   "cell_type": "code",
   "execution_count": null,
   "id": "9355e453",
   "metadata": {},
   "outputs": [],
   "source": [
    "import matplotlib.pyplot as plt\n",
    "\n",
    "def chatbot(pregunta):\n",
    "    respuestas = {\n",
    "        \"hola\": \"¡Hola! ¿En qué puedo ayudarte?\",\n",
    "        \"¿cómo estás?\": \"Soy un bot, siempre estoy bien 😊\",\n",
    "        \"¿qué es Python?\": \"Python es un lenguaje de programación popular para el desarrollo web y de datos.\",\n",
    "        \"adiós\": \"¡Hasta luego! Que tengas un buen día.\"\n",
    "    }\n",
    "    return respuestas.get(pregunta.lower(), \"Lo siento, no entiendo tu pregunta.\")\n",
    "\n",
    "interacciones = []\n",
    "\n",
    "print(\"Chatbot: ¡Hola! Soy tu asistente virtual.\")\n",
    "while True:\n",
    "    pregunta = input(\"Tú: \")\n",
    "    interacciones.append(pregunta)\n",
    "    respuesta = chatbot(pregunta)\n",
    "    print(f\"Chatbot: {respuesta}\")\n",
    "    if pregunta.lower() == \"adiós\":\n",
    "        break\n",
    "\n",
    "labels = list(set(interacciones))\n",
    "conteos = [interacciones.count(p) for p in labels]\n",
    "\n",
    "plt.bar(labels, conteos, color='c')\n",
    "plt.title(\"Interacciones con el Chatbot\")\n",
    "plt.xlabel(\"Preguntas\")\n",
    "plt.ylabel(\"Frecuencia\")\n",
    "plt.xticks(rotation=45)\n",
    "plt.show()\n"
   ]
  }
 ],
 "metadata": {},
 "nbformat": 4,
 "nbformat_minor": 5
}
